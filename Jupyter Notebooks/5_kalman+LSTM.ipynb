{
 "cells": [
  {
   "cell_type": "code",
   "execution_count": 41,
   "metadata": {
    "id": "r4SJ0Jh64J4g"
   },
   "outputs": [],
   "source": [
    "import numpy as np\n",
    "import pandas as pd\n",
    "import matplotlib.pyplot as plt\n",
    "\n",
    "from keras.models import Sequential\n",
    "from keras.layers import LSTM\n",
    "from keras.layers import Dropout\n",
    "from keras.layers import Dense\n",
    "from sklearn.metrics import mean_squared_error,r2_score"
   ]
  },
  {
   "cell_type": "code",
   "execution_count": 42,
   "metadata": {
    "colab": {
     "base_uri": "https://localhost:8080/"
    },
    "id": "Kv5nCJHdF9xw",
    "outputId": "dd131c0e-5dd4-417d-c1c2-6b72be64f737"
   },
   "outputs": [
    {
     "name": "stdout",
     "output_type": "stream",
     "text": [
      "Requirement already satisfied: pykalman in /usr/local/lib/python3.7/dist-packages (0.9.5)\n"
     ]
    }
   ],
   "source": [
    "pip install pykalman\n"
   ]
  },
  {
   "cell_type": "code",
   "execution_count": 43,
   "metadata": {
    "id": "9QbWTa8sGOfD"
   },
   "outputs": [],
   "source": [
    "from pykalman import KalmanFilter"
   ]
  },
  {
   "cell_type": "code",
   "execution_count": 44,
   "metadata": {
    "colab": {
     "base_uri": "https://localhost:8080/",
     "height": 683
    },
    "id": "URMsBnwH4Xqy",
    "outputId": "5b7a4477-a2a0-4060-debc-db9083d75307"
   },
   "outputs": [
    {
     "name": "stdout",
     "output_type": "stream",
     "text": [
      "<class 'pandas.core.frame.DataFrame'>\n",
      "Int64Index: 2075259 entries, 1 to 2075259\n",
      "Data columns (total 8 columns):\n",
      " #   Column                 Dtype  \n",
      "---  ------                 -----  \n",
      " 0   Global_active_power    float64\n",
      " 1   Global_reactive_power  float64\n",
      " 2   Voltage                float64\n",
      " 3   Global_intensity       float64\n",
      " 4   Sub_metering_1         float64\n",
      " 5   Sub_metering_2         float64\n",
      " 6   Sub_metering_3         float64\n",
      " 7   DateTime               object \n",
      "dtypes: float64(7), object(1)\n",
      "memory usage: 142.5+ MB\n"
     ]
    },
    {
     "name": "stderr",
     "output_type": "stream",
     "text": [
      "/usr/local/lib/python3.7/dist-packages/numpy/lib/arraysetops.py:580: FutureWarning: elementwise comparison failed; returning scalar instead, but in the future will perform elementwise comparison\n",
      "  mask |= (ar1 == a)\n"
     ]
    },
    {
     "data": {
      "text/html": [
       "<div>\n",
       "<style scoped>\n",
       "    .dataframe tbody tr th:only-of-type {\n",
       "        vertical-align: middle;\n",
       "    }\n",
       "\n",
       "    .dataframe tbody tr th {\n",
       "        vertical-align: top;\n",
       "    }\n",
       "\n",
       "    .dataframe thead th {\n",
       "        text-align: right;\n",
       "    }\n",
       "</style>\n",
       "<table border=\"1\" class=\"dataframe\">\n",
       "  <thead>\n",
       "    <tr style=\"text-align: right;\">\n",
       "      <th></th>\n",
       "      <th>Global_active_power</th>\n",
       "      <th>Global_reactive_power</th>\n",
       "      <th>Voltage</th>\n",
       "      <th>Global_intensity</th>\n",
       "      <th>Sub_metering_1</th>\n",
       "      <th>Sub_metering_2</th>\n",
       "      <th>Sub_metering_3</th>\n",
       "      <th>DateTime</th>\n",
       "    </tr>\n",
       "  </thead>\n",
       "  <tbody>\n",
       "    <tr>\n",
       "      <th>1</th>\n",
       "      <td>4.216</td>\n",
       "      <td>0.418</td>\n",
       "      <td>234.84</td>\n",
       "      <td>18.4</td>\n",
       "      <td>0.0</td>\n",
       "      <td>1.0</td>\n",
       "      <td>17.0</td>\n",
       "      <td>2006-12-16 17:24:00</td>\n",
       "    </tr>\n",
       "    <tr>\n",
       "      <th>2</th>\n",
       "      <td>5.360</td>\n",
       "      <td>0.436</td>\n",
       "      <td>233.63</td>\n",
       "      <td>23.0</td>\n",
       "      <td>0.0</td>\n",
       "      <td>1.0</td>\n",
       "      <td>16.0</td>\n",
       "      <td>2006-12-16 17:25:00</td>\n",
       "    </tr>\n",
       "    <tr>\n",
       "      <th>3</th>\n",
       "      <td>5.374</td>\n",
       "      <td>0.498</td>\n",
       "      <td>233.29</td>\n",
       "      <td>23.0</td>\n",
       "      <td>0.0</td>\n",
       "      <td>2.0</td>\n",
       "      <td>17.0</td>\n",
       "      <td>2006-12-16 17:26:00</td>\n",
       "    </tr>\n",
       "    <tr>\n",
       "      <th>4</th>\n",
       "      <td>5.388</td>\n",
       "      <td>0.502</td>\n",
       "      <td>233.74</td>\n",
       "      <td>23.0</td>\n",
       "      <td>0.0</td>\n",
       "      <td>1.0</td>\n",
       "      <td>17.0</td>\n",
       "      <td>2006-12-16 17:27:00</td>\n",
       "    </tr>\n",
       "    <tr>\n",
       "      <th>5</th>\n",
       "      <td>3.666</td>\n",
       "      <td>0.528</td>\n",
       "      <td>235.68</td>\n",
       "      <td>15.8</td>\n",
       "      <td>0.0</td>\n",
       "      <td>1.0</td>\n",
       "      <td>17.0</td>\n",
       "      <td>2006-12-16 17:28:00</td>\n",
       "    </tr>\n",
       "  </tbody>\n",
       "</table>\n",
       "</div>"
      ],
      "text/plain": [
       "   Global_active_power  ...             DateTime\n",
       "1                4.216  ...  2006-12-16 17:24:00\n",
       "2                5.360  ...  2006-12-16 17:25:00\n",
       "3                5.374  ...  2006-12-16 17:26:00\n",
       "4                5.388  ...  2006-12-16 17:27:00\n",
       "5                3.666  ...  2006-12-16 17:28:00\n",
       "\n",
       "[5 rows x 8 columns]"
      ]
     },
     "execution_count": 44,
     "metadata": {},
     "output_type": "execute_result"
    }
   ],
   "source": [
    "df = pd.read_csv('mean_power.csv', sep=',', header=0, index_col=0)\n",
    "df.info()\n",
    "df.head()\n",
    "\n"
   ]
  },
  {
   "cell_type": "code",
   "execution_count": 45,
   "metadata": {
    "colab": {
     "base_uri": "https://localhost:8080/",
     "height": 810
    },
    "id": "AiL9Sxtr7jhI",
    "outputId": "7603e725-0469-49b7-9c88-3aad42e40a21"
   },
   "outputs": [
    {
     "data": {
      "text/html": [
       "<div>\n",
       "<style scoped>\n",
       "    .dataframe tbody tr th:only-of-type {\n",
       "        vertical-align: middle;\n",
       "    }\n",
       "\n",
       "    .dataframe tbody tr th {\n",
       "        vertical-align: top;\n",
       "    }\n",
       "\n",
       "    .dataframe thead th {\n",
       "        text-align: right;\n",
       "    }\n",
       "</style>\n",
       "<table border=\"1\" class=\"dataframe\">\n",
       "  <thead>\n",
       "    <tr style=\"text-align: right;\">\n",
       "      <th></th>\n",
       "      <th>index</th>\n",
       "      <th>Global_active_power</th>\n",
       "      <th>Global_reactive_power</th>\n",
       "      <th>Voltage</th>\n",
       "      <th>Global_intensity</th>\n",
       "      <th>Sub_metering_1</th>\n",
       "      <th>Sub_metering_2</th>\n",
       "      <th>Sub_metering_3</th>\n",
       "    </tr>\n",
       "    <tr>\n",
       "      <th>DateTime</th>\n",
       "      <th></th>\n",
       "      <th></th>\n",
       "      <th></th>\n",
       "      <th></th>\n",
       "      <th></th>\n",
       "      <th></th>\n",
       "      <th></th>\n",
       "      <th></th>\n",
       "    </tr>\n",
       "  </thead>\n",
       "  <tbody>\n",
       "    <tr>\n",
       "      <th>2006-12-16 17:24:00</th>\n",
       "      <td>1</td>\n",
       "      <td>4.216</td>\n",
       "      <td>0.418</td>\n",
       "      <td>234.84</td>\n",
       "      <td>18.4</td>\n",
       "      <td>0.0</td>\n",
       "      <td>1.0</td>\n",
       "      <td>17.0</td>\n",
       "    </tr>\n",
       "    <tr>\n",
       "      <th>2006-12-16 17:25:00</th>\n",
       "      <td>2</td>\n",
       "      <td>5.360</td>\n",
       "      <td>0.436</td>\n",
       "      <td>233.63</td>\n",
       "      <td>23.0</td>\n",
       "      <td>0.0</td>\n",
       "      <td>1.0</td>\n",
       "      <td>16.0</td>\n",
       "    </tr>\n",
       "    <tr>\n",
       "      <th>2006-12-16 17:26:00</th>\n",
       "      <td>3</td>\n",
       "      <td>5.374</td>\n",
       "      <td>0.498</td>\n",
       "      <td>233.29</td>\n",
       "      <td>23.0</td>\n",
       "      <td>0.0</td>\n",
       "      <td>2.0</td>\n",
       "      <td>17.0</td>\n",
       "    </tr>\n",
       "    <tr>\n",
       "      <th>2006-12-16 17:27:00</th>\n",
       "      <td>4</td>\n",
       "      <td>5.388</td>\n",
       "      <td>0.502</td>\n",
       "      <td>233.74</td>\n",
       "      <td>23.0</td>\n",
       "      <td>0.0</td>\n",
       "      <td>1.0</td>\n",
       "      <td>17.0</td>\n",
       "    </tr>\n",
       "    <tr>\n",
       "      <th>2006-12-16 17:28:00</th>\n",
       "      <td>5</td>\n",
       "      <td>3.666</td>\n",
       "      <td>0.528</td>\n",
       "      <td>235.68</td>\n",
       "      <td>15.8</td>\n",
       "      <td>0.0</td>\n",
       "      <td>1.0</td>\n",
       "      <td>17.0</td>\n",
       "    </tr>\n",
       "    <tr>\n",
       "      <th>...</th>\n",
       "      <td>...</td>\n",
       "      <td>...</td>\n",
       "      <td>...</td>\n",
       "      <td>...</td>\n",
       "      <td>...</td>\n",
       "      <td>...</td>\n",
       "      <td>...</td>\n",
       "      <td>...</td>\n",
       "    </tr>\n",
       "    <tr>\n",
       "      <th>2010-11-26 20:58:00</th>\n",
       "      <td>2075255</td>\n",
       "      <td>0.946</td>\n",
       "      <td>0.000</td>\n",
       "      <td>240.43</td>\n",
       "      <td>4.0</td>\n",
       "      <td>0.0</td>\n",
       "      <td>0.0</td>\n",
       "      <td>0.0</td>\n",
       "    </tr>\n",
       "    <tr>\n",
       "      <th>2010-11-26 20:59:00</th>\n",
       "      <td>2075256</td>\n",
       "      <td>0.944</td>\n",
       "      <td>0.000</td>\n",
       "      <td>240.00</td>\n",
       "      <td>4.0</td>\n",
       "      <td>0.0</td>\n",
       "      <td>0.0</td>\n",
       "      <td>0.0</td>\n",
       "    </tr>\n",
       "    <tr>\n",
       "      <th>2010-11-26 21:00:00</th>\n",
       "      <td>2075257</td>\n",
       "      <td>0.938</td>\n",
       "      <td>0.000</td>\n",
       "      <td>239.82</td>\n",
       "      <td>3.8</td>\n",
       "      <td>0.0</td>\n",
       "      <td>0.0</td>\n",
       "      <td>0.0</td>\n",
       "    </tr>\n",
       "    <tr>\n",
       "      <th>2010-11-26 21:01:00</th>\n",
       "      <td>2075258</td>\n",
       "      <td>0.934</td>\n",
       "      <td>0.000</td>\n",
       "      <td>239.70</td>\n",
       "      <td>3.8</td>\n",
       "      <td>0.0</td>\n",
       "      <td>0.0</td>\n",
       "      <td>0.0</td>\n",
       "    </tr>\n",
       "    <tr>\n",
       "      <th>2010-11-26 21:02:00</th>\n",
       "      <td>2075259</td>\n",
       "      <td>0.932</td>\n",
       "      <td>0.000</td>\n",
       "      <td>239.55</td>\n",
       "      <td>3.8</td>\n",
       "      <td>0.0</td>\n",
       "      <td>0.0</td>\n",
       "      <td>0.0</td>\n",
       "    </tr>\n",
       "  </tbody>\n",
       "</table>\n",
       "<p>2075259 rows × 8 columns</p>\n",
       "</div>"
      ],
      "text/plain": [
       "                       index  ...  Sub_metering_3\n",
       "DateTime                      ...                \n",
       "2006-12-16 17:24:00        1  ...            17.0\n",
       "2006-12-16 17:25:00        2  ...            16.0\n",
       "2006-12-16 17:26:00        3  ...            17.0\n",
       "2006-12-16 17:27:00        4  ...            17.0\n",
       "2006-12-16 17:28:00        5  ...            17.0\n",
       "...                      ...  ...             ...\n",
       "2010-11-26 20:58:00  2075255  ...             0.0\n",
       "2010-11-26 20:59:00  2075256  ...             0.0\n",
       "2010-11-26 21:00:00  2075257  ...             0.0\n",
       "2010-11-26 21:01:00  2075258  ...             0.0\n",
       "2010-11-26 21:02:00  2075259  ...             0.0\n",
       "\n",
       "[2075259 rows x 8 columns]"
      ]
     },
     "execution_count": 45,
     "metadata": {},
     "output_type": "execute_result"
    }
   ],
   "source": [
    "df['DateTime'] = pd.to_datetime(df['DateTime'])\n",
    "df.dtypes\n",
    "\n",
    "df.reset_index().set_index('DateTime')"
   ]
  },
  {
   "cell_type": "code",
   "execution_count": 46,
   "metadata": {
    "id": "X3nIz28_7rnB"
   },
   "outputs": [],
   "source": [
    "df_day=df.resample('d', on='DateTime').mean()\n",
    "\n",
    "df_day = df_day.drop('Voltage', axis=1 )"
   ]
  },
  {
   "cell_type": "code",
   "execution_count": 47,
   "metadata": {
    "id": "gXOoyhZ57zCw"
   },
   "outputs": [],
   "source": [
    "from sklearn.preprocessing import MinMaxScaler,StandardScaler\n",
    "from sklearn.metrics import mean_squared_error, r2_score\n",
    "\n",
    "scaler = MinMaxScaler(feature_range=(0, 1))\n",
    "scaled = scaler.fit_transform(df_day)\n",
    "df_scaled =pd.DataFrame(scaled)"
   ]
  },
  {
   "cell_type": "code",
   "execution_count": 48,
   "metadata": {
    "id": "mpvg6hZ97zbS"
   },
   "outputs": [],
   "source": [
    "df_day[\"target\"] = df_day.Global_active_power.shift(-1)\n",
    "df_day = df_day.iloc[:-1,:]"
   ]
  },
  {
   "cell_type": "code",
   "execution_count": 49,
   "metadata": {
    "id": "yz7JazRy75hq"
   },
   "outputs": [],
   "source": [
    "values = df_day.values\n",
    "num_test = 365\n",
    "\n",
    "test = values[:num_test, :]\n",
    "train = values[num_test:, :]\n",
    "\n",
    "X_train, y_train = train[:,1:], train[:,0]\n",
    "X_test, y_test = test[:,1:], test[:,0]"
   ]
  },
  {
   "cell_type": "code",
   "execution_count": 50,
   "metadata": {
    "colab": {
     "base_uri": "https://localhost:8080/"
    },
    "id": "r3BVYVDf769W",
    "outputId": "578f253b-f44c-4ee4-868f-3efc35c13f35"
   },
   "outputs": [
    {
     "name": "stdout",
     "output_type": "stream",
     "text": [
      "(1076, 1, 6) (1076,) (365, 1, 6) (365,)\n"
     ]
    }
   ],
   "source": [
    "X_train = X_train.reshape((X_train.shape[0], 1, X_train.shape[1]))\n",
    "X_test = X_test.reshape((X_test.shape[0], 1, X_test.shape[1]))\n",
    "print(X_train.shape,y_train.shape,X_test.shape,y_test.shape)\n"
   ]
  },
  {
   "cell_type": "code",
   "execution_count": 51,
   "metadata": {
    "colab": {
     "base_uri": "https://localhost:8080/"
    },
    "id": "eA67U4-878xe",
    "outputId": "9f8d5abf-67b6-488c-bd49-fc3e92725643"
   },
   "outputs": [
    {
     "name": "stdout",
     "output_type": "stream",
     "text": [
      "Epoch 1/100\n",
      "11/11 - 2s - loss: 0.7382 - 2s/epoch - 184ms/step\n",
      "Epoch 2/100\n",
      "11/11 - 0s - loss: 0.1135 - 51ms/epoch - 5ms/step\n",
      "Epoch 3/100\n",
      "11/11 - 0s - loss: 0.0673 - 45ms/epoch - 4ms/step\n",
      "Epoch 4/100\n",
      "11/11 - 0s - loss: 0.0523 - 48ms/epoch - 4ms/step\n",
      "Epoch 5/100\n",
      "11/11 - 0s - loss: 0.0376 - 47ms/epoch - 4ms/step\n",
      "Epoch 6/100\n",
      "11/11 - 0s - loss: 0.0346 - 54ms/epoch - 5ms/step\n",
      "Epoch 7/100\n",
      "11/11 - 0s - loss: 0.0310 - 62ms/epoch - 6ms/step\n",
      "Epoch 8/100\n",
      "11/11 - 0s - loss: 0.0295 - 62ms/epoch - 6ms/step\n",
      "Epoch 9/100\n",
      "11/11 - 0s - loss: 0.0269 - 55ms/epoch - 5ms/step\n",
      "Epoch 10/100\n",
      "11/11 - 0s - loss: 0.0239 - 60ms/epoch - 5ms/step\n",
      "Epoch 11/100\n",
      "11/11 - 0s - loss: 0.0232 - 52ms/epoch - 5ms/step\n",
      "Epoch 12/100\n",
      "11/11 - 0s - loss: 0.0221 - 54ms/epoch - 5ms/step\n",
      "Epoch 13/100\n",
      "11/11 - 0s - loss: 0.0208 - 62ms/epoch - 6ms/step\n",
      "Epoch 14/100\n",
      "11/11 - 0s - loss: 0.0196 - 57ms/epoch - 5ms/step\n",
      "Epoch 15/100\n",
      "11/11 - 0s - loss: 0.0174 - 68ms/epoch - 6ms/step\n",
      "Epoch 16/100\n",
      "11/11 - 0s - loss: 0.0168 - 56ms/epoch - 5ms/step\n",
      "Epoch 17/100\n",
      "11/11 - 0s - loss: 0.0156 - 55ms/epoch - 5ms/step\n",
      "Epoch 18/100\n",
      "11/11 - 0s - loss: 0.0150 - 50ms/epoch - 5ms/step\n",
      "Epoch 19/100\n",
      "11/11 - 0s - loss: 0.0132 - 57ms/epoch - 5ms/step\n",
      "Epoch 20/100\n",
      "11/11 - 0s - loss: 0.0128 - 52ms/epoch - 5ms/step\n",
      "Epoch 21/100\n",
      "11/11 - 0s - loss: 0.0123 - 55ms/epoch - 5ms/step\n",
      "Epoch 22/100\n",
      "11/11 - 0s - loss: 0.0108 - 66ms/epoch - 6ms/step\n",
      "Epoch 23/100\n",
      "11/11 - 0s - loss: 0.0104 - 51ms/epoch - 5ms/step\n",
      "Epoch 24/100\n",
      "11/11 - 0s - loss: 0.0096 - 59ms/epoch - 5ms/step\n",
      "Epoch 25/100\n",
      "11/11 - 0s - loss: 0.0086 - 51ms/epoch - 5ms/step\n",
      "Epoch 26/100\n",
      "11/11 - 0s - loss: 0.0092 - 59ms/epoch - 5ms/step\n",
      "Epoch 27/100\n",
      "11/11 - 0s - loss: 0.0081 - 62ms/epoch - 6ms/step\n",
      "Epoch 28/100\n",
      "11/11 - 0s - loss: 0.0072 - 52ms/epoch - 5ms/step\n",
      "Epoch 29/100\n",
      "11/11 - 0s - loss: 0.0075 - 56ms/epoch - 5ms/step\n",
      "Epoch 30/100\n",
      "11/11 - 0s - loss: 0.0065 - 53ms/epoch - 5ms/step\n",
      "Epoch 31/100\n",
      "11/11 - 0s - loss: 0.0070 - 57ms/epoch - 5ms/step\n",
      "Epoch 32/100\n",
      "11/11 - 0s - loss: 0.0066 - 52ms/epoch - 5ms/step\n",
      "Epoch 33/100\n",
      "11/11 - 0s - loss: 0.0064 - 69ms/epoch - 6ms/step\n",
      "Epoch 34/100\n",
      "11/11 - 0s - loss: 0.0060 - 62ms/epoch - 6ms/step\n",
      "Epoch 35/100\n",
      "11/11 - 0s - loss: 0.0060 - 55ms/epoch - 5ms/step\n",
      "Epoch 36/100\n",
      "11/11 - 0s - loss: 0.0061 - 53ms/epoch - 5ms/step\n",
      "Epoch 37/100\n",
      "11/11 - 0s - loss: 0.0053 - 52ms/epoch - 5ms/step\n",
      "Epoch 38/100\n",
      "11/11 - 0s - loss: 0.0055 - 54ms/epoch - 5ms/step\n",
      "Epoch 39/100\n",
      "11/11 - 0s - loss: 0.0055 - 49ms/epoch - 4ms/step\n",
      "Epoch 40/100\n",
      "11/11 - 0s - loss: 0.0052 - 58ms/epoch - 5ms/step\n",
      "Epoch 41/100\n",
      "11/11 - 0s - loss: 0.0054 - 54ms/epoch - 5ms/step\n",
      "Epoch 42/100\n",
      "11/11 - 0s - loss: 0.0048 - 66ms/epoch - 6ms/step\n",
      "Epoch 43/100\n",
      "11/11 - 0s - loss: 0.0055 - 49ms/epoch - 4ms/step\n",
      "Epoch 44/100\n",
      "11/11 - 0s - loss: 0.0049 - 57ms/epoch - 5ms/step\n",
      "Epoch 45/100\n",
      "11/11 - 0s - loss: 0.0046 - 59ms/epoch - 5ms/step\n",
      "Epoch 46/100\n",
      "11/11 - 0s - loss: 0.0050 - 53ms/epoch - 5ms/step\n",
      "Epoch 47/100\n",
      "11/11 - 0s - loss: 0.0049 - 56ms/epoch - 5ms/step\n",
      "Epoch 48/100\n",
      "11/11 - 0s - loss: 0.0048 - 50ms/epoch - 5ms/step\n",
      "Epoch 49/100\n",
      "11/11 - 0s - loss: 0.0050 - 54ms/epoch - 5ms/step\n",
      "Epoch 50/100\n",
      "11/11 - 0s - loss: 0.0046 - 54ms/epoch - 5ms/step\n",
      "Epoch 51/100\n",
      "11/11 - 0s - loss: 0.0045 - 49ms/epoch - 4ms/step\n",
      "Epoch 52/100\n",
      "11/11 - 0s - loss: 0.0044 - 59ms/epoch - 5ms/step\n",
      "Epoch 53/100\n",
      "11/11 - 0s - loss: 0.0043 - 57ms/epoch - 5ms/step\n",
      "Epoch 54/100\n",
      "11/11 - 0s - loss: 0.0044 - 52ms/epoch - 5ms/step\n",
      "Epoch 55/100\n",
      "11/11 - 0s - loss: 0.0044 - 60ms/epoch - 5ms/step\n",
      "Epoch 56/100\n",
      "11/11 - 0s - loss: 0.0046 - 58ms/epoch - 5ms/step\n",
      "Epoch 57/100\n",
      "11/11 - 0s - loss: 0.0045 - 54ms/epoch - 5ms/step\n",
      "Epoch 58/100\n",
      "11/11 - 0s - loss: 0.0040 - 57ms/epoch - 5ms/step\n",
      "Epoch 59/100\n",
      "11/11 - 0s - loss: 0.0048 - 53ms/epoch - 5ms/step\n",
      "Epoch 60/100\n",
      "11/11 - 0s - loss: 0.0040 - 57ms/epoch - 5ms/step\n",
      "Epoch 61/100\n",
      "11/11 - 0s - loss: 0.0040 - 62ms/epoch - 6ms/step\n",
      "Epoch 62/100\n",
      "11/11 - 0s - loss: 0.0040 - 62ms/epoch - 6ms/step\n",
      "Epoch 63/100\n",
      "11/11 - 0s - loss: 0.0042 - 52ms/epoch - 5ms/step\n",
      "Epoch 64/100\n",
      "11/11 - 0s - loss: 0.0039 - 50ms/epoch - 5ms/step\n",
      "Epoch 65/100\n",
      "11/11 - 0s - loss: 0.0038 - 57ms/epoch - 5ms/step\n",
      "Epoch 66/100\n",
      "11/11 - 0s - loss: 0.0040 - 50ms/epoch - 5ms/step\n",
      "Epoch 67/100\n",
      "11/11 - 0s - loss: 0.0037 - 53ms/epoch - 5ms/step\n",
      "Epoch 68/100\n",
      "11/11 - 0s - loss: 0.0039 - 49ms/epoch - 4ms/step\n",
      "Epoch 69/100\n",
      "11/11 - 0s - loss: 0.0038 - 60ms/epoch - 5ms/step\n",
      "Epoch 70/100\n",
      "11/11 - 0s - loss: 0.0036 - 50ms/epoch - 5ms/step\n",
      "Epoch 71/100\n",
      "11/11 - 0s - loss: 0.0035 - 50ms/epoch - 5ms/step\n",
      "Epoch 72/100\n",
      "11/11 - 0s - loss: 0.0039 - 56ms/epoch - 5ms/step\n",
      "Epoch 73/100\n",
      "11/11 - 0s - loss: 0.0035 - 55ms/epoch - 5ms/step\n",
      "Epoch 74/100\n",
      "11/11 - 0s - loss: 0.0035 - 66ms/epoch - 6ms/step\n",
      "Epoch 75/100\n",
      "11/11 - 0s - loss: 0.0034 - 52ms/epoch - 5ms/step\n",
      "Epoch 76/100\n",
      "11/11 - 0s - loss: 0.0041 - 51ms/epoch - 5ms/step\n",
      "Epoch 77/100\n",
      "11/11 - 0s - loss: 0.0036 - 54ms/epoch - 5ms/step\n",
      "Epoch 78/100\n",
      "11/11 - 0s - loss: 0.0034 - 49ms/epoch - 4ms/step\n",
      "Epoch 79/100\n",
      "11/11 - 0s - loss: 0.0035 - 58ms/epoch - 5ms/step\n",
      "Epoch 80/100\n",
      "11/11 - 0s - loss: 0.0034 - 52ms/epoch - 5ms/step\n",
      "Epoch 81/100\n",
      "11/11 - 0s - loss: 0.0035 - 56ms/epoch - 5ms/step\n",
      "Epoch 82/100\n",
      "11/11 - 0s - loss: 0.0032 - 56ms/epoch - 5ms/step\n",
      "Epoch 83/100\n",
      "11/11 - 0s - loss: 0.0030 - 53ms/epoch - 5ms/step\n",
      "Epoch 84/100\n",
      "11/11 - 0s - loss: 0.0033 - 60ms/epoch - 5ms/step\n",
      "Epoch 85/100\n",
      "11/11 - 0s - loss: 0.0036 - 51ms/epoch - 5ms/step\n",
      "Epoch 86/100\n",
      "11/11 - 0s - loss: 0.0032 - 54ms/epoch - 5ms/step\n",
      "Epoch 87/100\n",
      "11/11 - 0s - loss: 0.0031 - 52ms/epoch - 5ms/step\n",
      "Epoch 88/100\n",
      "11/11 - 0s - loss: 0.0033 - 47ms/epoch - 4ms/step\n",
      "Epoch 89/100\n",
      "11/11 - 0s - loss: 0.0030 - 47ms/epoch - 4ms/step\n",
      "Epoch 90/100\n",
      "11/11 - 0s - loss: 0.0033 - 57ms/epoch - 5ms/step\n",
      "Epoch 91/100\n",
      "11/11 - 0s - loss: 0.0033 - 54ms/epoch - 5ms/step\n",
      "Epoch 92/100\n",
      "11/11 - 0s - loss: 0.0032 - 62ms/epoch - 6ms/step\n",
      "Epoch 93/100\n",
      "11/11 - 0s - loss: 0.0033 - 57ms/epoch - 5ms/step\n",
      "Epoch 94/100\n",
      "11/11 - 0s - loss: 0.0033 - 49ms/epoch - 4ms/step\n",
      "Epoch 95/100\n",
      "11/11 - 0s - loss: 0.0031 - 56ms/epoch - 5ms/step\n",
      "Epoch 96/100\n",
      "11/11 - 0s - loss: 0.0032 - 53ms/epoch - 5ms/step\n",
      "Epoch 97/100\n",
      "11/11 - 0s - loss: 0.0030 - 61ms/epoch - 6ms/step\n",
      "Epoch 98/100\n",
      "11/11 - 0s - loss: 0.0031 - 52ms/epoch - 5ms/step\n",
      "Epoch 99/100\n",
      "11/11 - 0s - loss: 0.0029 - 51ms/epoch - 5ms/step\n",
      "Epoch 100/100\n",
      "11/11 - 0s - loss: 0.0029 - 60ms/epoch - 5ms/step\n"
     ]
    },
    {
     "data": {
      "text/plain": [
       "<keras.callbacks.History at 0x7fbcc2220550>"
      ]
     },
     "execution_count": 51,
     "metadata": {},
     "output_type": "execute_result"
    }
   ],
   "source": [
    "\n",
    "\n",
    "model = Sequential()\n",
    "model.add(LSTM(100, input_shape=(X_train.shape[1],  X_train.shape[2]), return_sequences=False))\n",
    "model.add(Dropout(0.1))\n",
    "model.add(Dense(1))\n",
    "model.compile(loss='mean_squared_error', optimizer='adam')\n",
    "model.fit(X_train, y_train, epochs=100, batch_size=100, verbose=2)"
   ]
  },
  {
   "cell_type": "code",
   "execution_count": 52,
   "metadata": {
    "colab": {
     "base_uri": "https://localhost:8080/"
    },
    "id": "PnqRJ3Ru8QB6",
    "outputId": "c2fbc0b3-cfe4-40bb-a80c-5787e2923bf4"
   },
   "outputs": [
    {
     "name": "stdout",
     "output_type": "stream",
     "text": [
      "Model: \"sequential_2\"\n",
      "_________________________________________________________________\n",
      " Layer (type)                Output Shape              Param #   \n",
      "=================================================================\n",
      " lstm_2 (LSTM)               (None, 100)               42800     \n",
      "                                                                 \n",
      " dropout_2 (Dropout)         (None, 100)               0         \n",
      "                                                                 \n",
      " dense_2 (Dense)             (None, 1)                 101       \n",
      "                                                                 \n",
      "=================================================================\n",
      "Total params: 42,901\n",
      "Trainable params: 42,901\n",
      "Non-trainable params: 0\n",
      "_________________________________________________________________\n"
     ]
    }
   ],
   "source": [
    "model.summary()"
   ]
  },
  {
   "cell_type": "code",
   "execution_count": 53,
   "metadata": {
    "id": "rNMyHj4H8LMI"
   },
   "outputs": [],
   "source": [
    "y_pred = model.predict(X_test)"
   ]
  },
  {
   "cell_type": "code",
   "execution_count": 54,
   "metadata": {
    "id": "FuDj_b2eFApa"
   },
   "outputs": [],
   "source": [
    "X_test = X_test.reshape((X_test.shape[0], 6))"
   ]
  },
  {
   "cell_type": "code",
   "execution_count": 55,
   "metadata": {
    "id": "2f_Tbjzw8cA8"
   },
   "outputs": [],
   "source": [
    "# Invert scaling for prediction\n",
    "inv_x = np.concatenate((y_pred, X_test[:, -5:]), axis=1)\n",
    "inv_x = scaler.inverse_transform(inv_x)\n",
    "inv_y_pred = inv_x[:,0]\n",
    "\n",
    "# invert scaling for actual\n",
    "y_test = y_test.reshape((len(y_test), 1))\n",
    "inv_y = np.concatenate((y_test, X_test[:, -5:]), axis=1)\n",
    "inv_y = scaler.inverse_transform(inv_y)\n",
    "\n",
    "inv_y = inv_y[:,0]"
   ]
  },
  {
   "cell_type": "code",
   "execution_count": 56,
   "metadata": {
    "colab": {
     "base_uri": "https://localhost:8080/"
    },
    "id": "aTPmCNG_Fjkd",
    "outputId": "6775c908-b028-4cb1-cee7-18ef78946bd3"
   },
   "outputs": [
    {
     "name": "stdout",
     "output_type": "stream",
     "text": [
      "RMSE value : 0.13001080526267522\n",
      "R2 Score : 0.9935234181643606\n"
     ]
    }
   ],
   "source": [
    "# calculate RMSE\n",
    "rmse = np.sqrt(mean_squared_error(inv_y, inv_y_pred))\n",
    "print('RMSE value : {}'.format(rmse))\n",
    "\n",
    "# calculate R2 Score\n",
    "r2 = r2_score(inv_y, inv_y_pred)\n",
    "print(\"R2 Score : {}\".format(r2))"
   ]
  },
  {
   "cell_type": "code",
   "execution_count": 56,
   "metadata": {
    "id": "F_R4dS68Xi0_"
   },
   "outputs": [],
   "source": []
  },
  {
   "cell_type": "code",
   "execution_count": 57,
   "metadata": {
    "id": "Kh_6rEZzFCYq"
   },
   "outputs": [],
   "source": [
    "kf = KalmanFilter(initial_state_mean=inv_y[0])\n",
    "kf = kf.em(inv_y, n_iter=1, em_vars='all')\n",
    "measurements_predicted = (kf.smooth(inv_y_pred)[0])[:, 0]"
   ]
  },
  {
   "cell_type": "code",
   "execution_count": 58,
   "metadata": {
    "colab": {
     "base_uri": "https://localhost:8080/"
    },
    "id": "sugD8n7bF7rB",
    "outputId": "ad0bffa7-bfd2-411a-ee75-09c30b2d85f1"
   },
   "outputs": [
    {
     "name": "stdout",
     "output_type": "stream",
     "text": [
      "Score Before Kalman Filtering: 0.13 RMSE and 0.99 R-Square\n"
     ]
    }
   ],
   "source": [
    "import math\n",
    "trainScore1 = math.sqrt(mean_squared_error(inv_y, inv_y_pred))\n",
    "trainScore1_r2 = r2_score(inv_y, inv_y_pred)\n",
    "print('Score Before Kalman Filtering: %.2f RMSE and %.2f R-Square' % (trainScore1, trainScore1_r2))"
   ]
  },
  {
   "cell_type": "code",
   "execution_count": 59,
   "metadata": {
    "colab": {
     "base_uri": "https://localhost:8080/"
    },
    "id": "0rHPEx53IdT1",
    "outputId": "1c885169-ea6a-4a8b-e70d-cfa58c80bb96"
   },
   "outputs": [
    {
     "name": "stdout",
     "output_type": "stream",
     "text": [
      "Score After Kalman Filtering: 0.69 RMSE and 0.82 R-Square\n"
     ]
    }
   ],
   "source": [
    "trainScore2 = math.sqrt(mean_squared_error(inv_y, measurements_predicted))\n",
    "trainScore2_r2 = r2_score(inv_y, measurements_predicted)\n",
    "print('Score After Kalman Filtering: %.2f RMSE and %.2f R-Square' % (trainScore2, trainScore2_r2))\n"
   ]
  },
  {
   "cell_type": "code",
   "execution_count": 60,
   "metadata": {
    "colab": {
     "base_uri": "https://localhost:8080/",
     "height": 294
    },
    "id": "cgYfw1aQI_mr",
    "outputId": "c6d13683-ab66-4ef9-8709-ddca6757d0e8"
   },
   "outputs": [
    {
     "data": {
      "image/png": "[encoded data removed]",
      "text/plain": [
       "<Figure size 432x288 with 1 Axes>"
      ]
     },
     "metadata": {
      "needs_background": "light"
     },
     "output_type": "display_data"
    }
   ],
   "source": [
    "line1, = plt.plot(inv_y, label=\"Observations\", linestyle='--')\n",
    "line2, = plt.plot(inv_y_pred, label=\"Measurements\", linestyle='--')\n",
    "line3, = plt.plot(measurements_predicted, label=\"Improved Measurements\", linestyle='--')\n",
    "\n",
    "plt.legend(handles=[line1, line2, line3], bbox_to_anchor=(0., 1, 1.2, 1), loc=3, borderaxespad=0., mode='expand',\n",
    "           ncol=3)\n",
    "\n",
    "#plt.xlabel('Time step')\n",
    "#plt.ylabel('Global Active Power')\n",
    "plt.suptitle('Before: %.2f RMSE and %.2f R-Square | After: %.2f RMSE and %.2f R-Square' % (\n",
    "trainScore1, trainScore1_r2, trainScore2, trainScore2_r2))\n",
    "\n",
    "plt.show()"
   ]
  }
 ],
 "metadata": {
  "colab": {
   "name": "5_kalman+LSTM",
   "provenance": []
  },
  "kernelspec": {
   "display_name": "Python 3 (ipykernel)",
   "language": "python",
   "name": "python3"
  },
  "language_info": {
   "codemirror_mode": {
    "name": "ipython",
    "version": 3
   },
   "file_extension": ".py",
   "mimetype": "text/x-python",
   "name": "python",
   "nbconvert_exporter": "python",
   "pygments_lexer": "ipython3",
   "version": "3.8.5"
  }
 },
 "nbformat": 4,
 "nbformat_minor": 4
}
