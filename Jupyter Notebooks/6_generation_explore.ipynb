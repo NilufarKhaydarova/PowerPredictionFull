{
 "cells": [
  {
   "cell_type": "code",
   "execution_count": 10,
   "metadata": {
    "id": "HHPyXR6XKZBJ"
   },
   "outputs": [],
   "source": [
    "import pandas as pd\n"
   ]
  },
  {
   "cell_type": "code",
   "execution_count": 11,
   "metadata": {
    "colab": {
     "base_uri": "https://localhost:8080/",
     "height": 442
    },
    "id": "Jx58EkPbONOp",
    "outputId": "23e002d9-e316-4a4c-b418-626b10a9f6c2"
   },
   "outputs": [
    {
     "name": "stdout",
     "output_type": "stream",
     "text": [
      "<class 'pandas.core.frame.DataFrame'>\n",
      "RangeIndex: 17279 entries, 0 to 17278\n",
      "Data columns (total 7 columns):\n",
      " #   Column   Non-Null Count  Dtype  \n",
      "---  ------   --------------  -----  \n",
      " 0   Time     17279 non-null  int64  \n",
      " 1   Solar_1  17279 non-null  float64\n",
      " 2   Solar_2  17279 non-null  float64\n",
      " 3   Solar_3  17279 non-null  float64\n",
      " 4   Wind_1   17279 non-null  float64\n",
      " 5   Wind_2   17279 non-null  float64\n",
      " 6   Battery  17279 non-null  float64\n",
      "dtypes: float64(6), int64(1)\n",
      "memory usage: 945.1 KB\n"
     ]
    },
    {
     "data": {
      "text/html": [
       "<div>\n",
       "<style scoped>\n",
       "    .dataframe tbody tr th:only-of-type {\n",
       "        vertical-align: middle;\n",
       "    }\n",
       "\n",
       "    .dataframe tbody tr th {\n",
       "        vertical-align: top;\n",
       "    }\n",
       "\n",
       "    .dataframe thead th {\n",
       "        text-align: right;\n",
       "    }\n",
       "</style>\n",
       "<table border=\"1\" class=\"dataframe\">\n",
       "  <thead>\n",
       "    <tr style=\"text-align: right;\">\n",
       "      <th></th>\n",
       "      <th>Time</th>\n",
       "      <th>Solar_1</th>\n",
       "      <th>Solar_2</th>\n",
       "      <th>Solar_3</th>\n",
       "      <th>Wind_1</th>\n",
       "      <th>Wind_2</th>\n",
       "      <th>Battery</th>\n",
       "    </tr>\n",
       "  </thead>\n",
       "  <tbody>\n",
       "    <tr>\n",
       "      <th>0</th>\n",
       "      <td>1312156805</td>\n",
       "      <td>3.946</td>\n",
       "      <td>0.0025</td>\n",
       "      <td>3.9361</td>\n",
       "      <td>3.4333</td>\n",
       "      <td>3.9361</td>\n",
       "      <td>12.6078</td>\n",
       "    </tr>\n",
       "    <tr>\n",
       "      <th>1</th>\n",
       "      <td>1312156810</td>\n",
       "      <td>3.946</td>\n",
       "      <td>0.0025</td>\n",
       "      <td>3.9361</td>\n",
       "      <td>3.4333</td>\n",
       "      <td>3.9361</td>\n",
       "      <td>12.6078</td>\n",
       "    </tr>\n",
       "    <tr>\n",
       "      <th>2</th>\n",
       "      <td>1312156815</td>\n",
       "      <td>3.946</td>\n",
       "      <td>0.0025</td>\n",
       "      <td>3.9361</td>\n",
       "      <td>3.4333</td>\n",
       "      <td>3.9361</td>\n",
       "      <td>12.6078</td>\n",
       "    </tr>\n",
       "    <tr>\n",
       "      <th>3</th>\n",
       "      <td>1312156820</td>\n",
       "      <td>3.946</td>\n",
       "      <td>0.0025</td>\n",
       "      <td>3.9361</td>\n",
       "      <td>3.4333</td>\n",
       "      <td>3.9361</td>\n",
       "      <td>12.6078</td>\n",
       "    </tr>\n",
       "    <tr>\n",
       "      <th>4</th>\n",
       "      <td>1312156825</td>\n",
       "      <td>3.946</td>\n",
       "      <td>0.0025</td>\n",
       "      <td>3.9361</td>\n",
       "      <td>3.4333</td>\n",
       "      <td>3.9361</td>\n",
       "      <td>12.6078</td>\n",
       "    </tr>\n",
       "  </tbody>\n",
       "</table>\n",
       "</div>"
      ],
      "text/plain": [
       "         Time  Solar_1  Solar_2  Solar_3  Wind_1  Wind_2  Battery\n",
       "0  1312156805    3.946   0.0025   3.9361  3.4333  3.9361  12.6078\n",
       "1  1312156810    3.946   0.0025   3.9361  3.4333  3.9361  12.6078\n",
       "2  1312156815    3.946   0.0025   3.9361  3.4333  3.9361  12.6078\n",
       "3  1312156820    3.946   0.0025   3.9361  3.4333  3.9361  12.6078\n",
       "4  1312156825    3.946   0.0025   3.9361  3.4333  3.9361  12.6078"
      ]
     },
     "execution_count": 11,
     "metadata": {},
     "output_type": "execute_result"
    }
   ],
   "source": [
    "df_1 = pd.read_csv('2011-Aug-1.csv', sep=',', header=0)\n",
    "#add columns\n",
    "df_1.columns=['Time','Solar_1', 'Solar_2', 'Solar_3', 'Wind_1', 'Wind_2','Battery']\n",
    "\n",
    "df_1.info()\n",
    "df_1.head()"
   ]
  },
  {
   "cell_type": "code",
   "execution_count": 12,
   "metadata": {
    "colab": {
     "base_uri": "https://localhost:8080/",
     "height": 442
    },
    "id": "d9En9pyWE5XJ",
    "outputId": "26a503fe-ddea-4140-c345-ca87613cf538"
   },
   "outputs": [
    {
     "name": "stdout",
     "output_type": "stream",
     "text": [
      "<class 'pandas.core.frame.DataFrame'>\n",
      "RangeIndex: 17279 entries, 0 to 17278\n",
      "Data columns (total 7 columns):\n",
      " #   Column   Non-Null Count  Dtype  \n",
      "---  ------   --------------  -----  \n",
      " 0   Time     17279 non-null  int64  \n",
      " 1   Solar_1  17279 non-null  float64\n",
      " 2   Solar_2  17279 non-null  float64\n",
      " 3   Solar_3  17279 non-null  float64\n",
      " 4   Wind_1   17279 non-null  float64\n",
      " 5   Wind_2   17279 non-null  float64\n",
      " 6   Battery  17279 non-null  float64\n",
      "dtypes: float64(6), int64(1)\n",
      "memory usage: 945.1 KB\n"
     ]
    },
    {
     "data": {
      "text/html": [
       "<div>\n",
       "<style scoped>\n",
       "    .dataframe tbody tr th:only-of-type {\n",
       "        vertical-align: middle;\n",
       "    }\n",
       "\n",
       "    .dataframe tbody tr th {\n",
       "        vertical-align: top;\n",
       "    }\n",
       "\n",
       "    .dataframe thead th {\n",
       "        text-align: right;\n",
       "    }\n",
       "</style>\n",
       "<table border=\"1\" class=\"dataframe\">\n",
       "  <thead>\n",
       "    <tr style=\"text-align: right;\">\n",
       "      <th></th>\n",
       "      <th>Time</th>\n",
       "      <th>Solar_1</th>\n",
       "      <th>Solar_2</th>\n",
       "      <th>Solar_3</th>\n",
       "      <th>Wind_1</th>\n",
       "      <th>Wind_2</th>\n",
       "      <th>Battery</th>\n",
       "    </tr>\n",
       "  </thead>\n",
       "  <tbody>\n",
       "    <tr>\n",
       "      <th>0</th>\n",
       "      <td>1312243205</td>\n",
       "      <td>3.946</td>\n",
       "      <td>0.0025</td>\n",
       "      <td>3.9361</td>\n",
       "      <td>3.4284</td>\n",
       "      <td>3.9361</td>\n",
       "      <td>12.5826</td>\n",
       "    </tr>\n",
       "    <tr>\n",
       "      <th>1</th>\n",
       "      <td>1312243210</td>\n",
       "      <td>3.946</td>\n",
       "      <td>0.0025</td>\n",
       "      <td>3.9361</td>\n",
       "      <td>3.4284</td>\n",
       "      <td>3.9361</td>\n",
       "      <td>12.5826</td>\n",
       "    </tr>\n",
       "    <tr>\n",
       "      <th>2</th>\n",
       "      <td>1312243215</td>\n",
       "      <td>3.946</td>\n",
       "      <td>0.0025</td>\n",
       "      <td>3.9361</td>\n",
       "      <td>3.4284</td>\n",
       "      <td>3.9361</td>\n",
       "      <td>12.5826</td>\n",
       "    </tr>\n",
       "    <tr>\n",
       "      <th>3</th>\n",
       "      <td>1312243220</td>\n",
       "      <td>3.946</td>\n",
       "      <td>0.0025</td>\n",
       "      <td>3.9411</td>\n",
       "      <td>3.4284</td>\n",
       "      <td>3.9361</td>\n",
       "      <td>12.5826</td>\n",
       "    </tr>\n",
       "    <tr>\n",
       "      <th>4</th>\n",
       "      <td>1312243225</td>\n",
       "      <td>3.946</td>\n",
       "      <td>0.0025</td>\n",
       "      <td>3.9361</td>\n",
       "      <td>3.4284</td>\n",
       "      <td>3.9361</td>\n",
       "      <td>12.5826</td>\n",
       "    </tr>\n",
       "  </tbody>\n",
       "</table>\n",
       "</div>"
      ],
      "text/plain": [
       "         Time  Solar_1  Solar_2  Solar_3  Wind_1  Wind_2  Battery\n",
       "0  1312243205    3.946   0.0025   3.9361  3.4284  3.9361  12.5826\n",
       "1  1312243210    3.946   0.0025   3.9361  3.4284  3.9361  12.5826\n",
       "2  1312243215    3.946   0.0025   3.9361  3.4284  3.9361  12.5826\n",
       "3  1312243220    3.946   0.0025   3.9411  3.4284  3.9361  12.5826\n",
       "4  1312243225    3.946   0.0025   3.9361  3.4284  3.9361  12.5826"
      ]
     },
     "execution_count": 12,
     "metadata": {},
     "output_type": "execute_result"
    }
   ],
   "source": [
    "df_2 = pd.read_csv('2011-Aug-2.csv', sep=',', header=0)\n",
    "#add columns\n",
    "df_2.columns=['Time','Solar_1', 'Solar_2', 'Solar_3', 'Wind_1', 'Wind_2','Battery']\n",
    "\n",
    "df_2.info()\n",
    "df_2.head()"
   ]
  },
  {
   "cell_type": "code",
   "execution_count": 13,
   "metadata": {
    "colab": {
     "base_uri": "https://localhost:8080/",
     "height": 442
    },
    "id": "I7RfAnGew54e",
    "outputId": "6eea8b4a-f55c-4387-a51c-fb159f6840f7"
   },
   "outputs": [
    {
     "name": "stdout",
     "output_type": "stream",
     "text": [
      "<class 'pandas.core.frame.DataFrame'>\n",
      "RangeIndex: 17279 entries, 0 to 17278\n",
      "Data columns (total 7 columns):\n",
      " #   Column   Non-Null Count  Dtype  \n",
      "---  ------   --------------  -----  \n",
      " 0   Time     17279 non-null  int64  \n",
      " 1   Solar_1  17279 non-null  float64\n",
      " 2   Solar_2  17279 non-null  float64\n",
      " 3   Solar_3  17279 non-null  float64\n",
      " 4   Wind_1   17279 non-null  float64\n",
      " 5   Wind_2   17279 non-null  float64\n",
      " 6   Battery  17279 non-null  float64\n",
      "dtypes: float64(6), int64(1)\n",
      "memory usage: 945.1 KB\n"
     ]
    },
    {
     "data": {
      "text/html": [
       "<div>\n",
       "<style scoped>\n",
       "    .dataframe tbody tr th:only-of-type {\n",
       "        vertical-align: middle;\n",
       "    }\n",
       "\n",
       "    .dataframe tbody tr th {\n",
       "        vertical-align: top;\n",
       "    }\n",
       "\n",
       "    .dataframe thead th {\n",
       "        text-align: right;\n",
       "    }\n",
       "</style>\n",
       "<table border=\"1\" class=\"dataframe\">\n",
       "  <thead>\n",
       "    <tr style=\"text-align: right;\">\n",
       "      <th></th>\n",
       "      <th>Time</th>\n",
       "      <th>Solar_1</th>\n",
       "      <th>Solar_2</th>\n",
       "      <th>Solar_3</th>\n",
       "      <th>Wind_1</th>\n",
       "      <th>Wind_2</th>\n",
       "      <th>Battery</th>\n",
       "    </tr>\n",
       "  </thead>\n",
       "  <tbody>\n",
       "    <tr>\n",
       "      <th>0</th>\n",
       "      <td>1312243205</td>\n",
       "      <td>3.946</td>\n",
       "      <td>0.0025</td>\n",
       "      <td>3.9361</td>\n",
       "      <td>3.4284</td>\n",
       "      <td>3.9361</td>\n",
       "      <td>12.5826</td>\n",
       "    </tr>\n",
       "    <tr>\n",
       "      <th>1</th>\n",
       "      <td>1312243210</td>\n",
       "      <td>3.946</td>\n",
       "      <td>0.0025</td>\n",
       "      <td>3.9361</td>\n",
       "      <td>3.4284</td>\n",
       "      <td>3.9361</td>\n",
       "      <td>12.5826</td>\n",
       "    </tr>\n",
       "    <tr>\n",
       "      <th>2</th>\n",
       "      <td>1312243215</td>\n",
       "      <td>3.946</td>\n",
       "      <td>0.0025</td>\n",
       "      <td>3.9361</td>\n",
       "      <td>3.4284</td>\n",
       "      <td>3.9361</td>\n",
       "      <td>12.5826</td>\n",
       "    </tr>\n",
       "    <tr>\n",
       "      <th>3</th>\n",
       "      <td>1312243220</td>\n",
       "      <td>3.946</td>\n",
       "      <td>0.0025</td>\n",
       "      <td>3.9411</td>\n",
       "      <td>3.4284</td>\n",
       "      <td>3.9361</td>\n",
       "      <td>12.5826</td>\n",
       "    </tr>\n",
       "    <tr>\n",
       "      <th>4</th>\n",
       "      <td>1312243225</td>\n",
       "      <td>3.946</td>\n",
       "      <td>0.0025</td>\n",
       "      <td>3.9361</td>\n",
       "      <td>3.4284</td>\n",
       "      <td>3.9361</td>\n",
       "      <td>12.5826</td>\n",
       "    </tr>\n",
       "  </tbody>\n",
       "</table>\n",
       "</div>"
      ],
      "text/plain": [
       "         Time  Solar_1  Solar_2  Solar_3  Wind_1  Wind_2  Battery\n",
       "0  1312243205    3.946   0.0025   3.9361  3.4284  3.9361  12.5826\n",
       "1  1312243210    3.946   0.0025   3.9361  3.4284  3.9361  12.5826\n",
       "2  1312243215    3.946   0.0025   3.9361  3.4284  3.9361  12.5826\n",
       "3  1312243220    3.946   0.0025   3.9411  3.4284  3.9361  12.5826\n",
       "4  1312243225    3.946   0.0025   3.9361  3.4284  3.9361  12.5826"
      ]
     },
     "execution_count": 13,
     "metadata": {},
     "output_type": "execute_result"
    }
   ],
   "source": [
    "df_3 = pd.read_csv('2011-Aug-2.csv', sep=',', header=0)\n",
    "#add columns\n",
    "df_3.columns=['Time','Solar_1', 'Solar_2', 'Solar_3', 'Wind_1', 'Wind_2','Battery']\n",
    "\n",
    "df_3.info()\n",
    "df_3.head()"
   ]
  },
  {
   "cell_type": "code",
   "execution_count": 14,
   "metadata": {
    "colab": {
     "base_uri": "https://localhost:8080/",
     "height": 442
    },
    "id": "_gnNGj44Xf5n",
    "outputId": "2fb0bddb-9d52-4ff3-e8db-865edc768aa1"
   },
   "outputs": [
    {
     "name": "stdout",
     "output_type": "stream",
     "text": [
      "<class 'pandas.core.frame.DataFrame'>\n",
      "RangeIndex: 17279 entries, 0 to 17278\n",
      "Data columns (total 7 columns):\n",
      " #   Column   Non-Null Count  Dtype  \n",
      "---  ------   --------------  -----  \n",
      " 0   Time     17279 non-null  int64  \n",
      " 1   Solar_1  17279 non-null  float64\n",
      " 2   Solar_2  17279 non-null  float64\n",
      " 3   Solar_3  17279 non-null  float64\n",
      " 4   Wind_1   17279 non-null  float64\n",
      " 5   Wind_2   17279 non-null  float64\n",
      " 6   Battery  17279 non-null  float64\n",
      "dtypes: float64(6), int64(1)\n",
      "memory usage: 945.1 KB\n"
     ]
    },
    {
     "data": {
      "text/html": [
       "<div>\n",
       "<style scoped>\n",
       "    .dataframe tbody tr th:only-of-type {\n",
       "        vertical-align: middle;\n",
       "    }\n",
       "\n",
       "    .dataframe tbody tr th {\n",
       "        vertical-align: top;\n",
       "    }\n",
       "\n",
       "    .dataframe thead th {\n",
       "        text-align: right;\n",
       "    }\n",
       "</style>\n",
       "<table border=\"1\" class=\"dataframe\">\n",
       "  <thead>\n",
       "    <tr style=\"text-align: right;\">\n",
       "      <th></th>\n",
       "      <th>Time</th>\n",
       "      <th>Solar_1</th>\n",
       "      <th>Solar_2</th>\n",
       "      <th>Solar_3</th>\n",
       "      <th>Wind_1</th>\n",
       "      <th>Wind_2</th>\n",
       "      <th>Battery</th>\n",
       "    </tr>\n",
       "  </thead>\n",
       "  <tbody>\n",
       "    <tr>\n",
       "      <th>0</th>\n",
       "      <td>1312416005</td>\n",
       "      <td>3.946</td>\n",
       "      <td>0.0025</td>\n",
       "      <td>3.9361</td>\n",
       "      <td>3.4284</td>\n",
       "      <td>3.9361</td>\n",
       "      <td>12.3505</td>\n",
       "    </tr>\n",
       "    <tr>\n",
       "      <th>1</th>\n",
       "      <td>1312416010</td>\n",
       "      <td>3.946</td>\n",
       "      <td>0.0025</td>\n",
       "      <td>3.9361</td>\n",
       "      <td>3.4284</td>\n",
       "      <td>3.9361</td>\n",
       "      <td>12.3404</td>\n",
       "    </tr>\n",
       "    <tr>\n",
       "      <th>2</th>\n",
       "      <td>1312416015</td>\n",
       "      <td>3.946</td>\n",
       "      <td>0.0025</td>\n",
       "      <td>3.9361</td>\n",
       "      <td>3.4284</td>\n",
       "      <td>3.9361</td>\n",
       "      <td>12.3505</td>\n",
       "    </tr>\n",
       "    <tr>\n",
       "      <th>3</th>\n",
       "      <td>1312416020</td>\n",
       "      <td>3.946</td>\n",
       "      <td>0.0025</td>\n",
       "      <td>3.9361</td>\n",
       "      <td>3.4284</td>\n",
       "      <td>3.9361</td>\n",
       "      <td>12.3505</td>\n",
       "    </tr>\n",
       "    <tr>\n",
       "      <th>4</th>\n",
       "      <td>1312416025</td>\n",
       "      <td>3.946</td>\n",
       "      <td>0.0025</td>\n",
       "      <td>3.9361</td>\n",
       "      <td>3.4284</td>\n",
       "      <td>3.9361</td>\n",
       "      <td>12.3505</td>\n",
       "    </tr>\n",
       "  </tbody>\n",
       "</table>\n",
       "</div>"
      ],
      "text/plain": [
       "         Time  Solar_1  Solar_2  Solar_3  Wind_1  Wind_2  Battery\n",
       "0  1312416005    3.946   0.0025   3.9361  3.4284  3.9361  12.3505\n",
       "1  1312416010    3.946   0.0025   3.9361  3.4284  3.9361  12.3404\n",
       "2  1312416015    3.946   0.0025   3.9361  3.4284  3.9361  12.3505\n",
       "3  1312416020    3.946   0.0025   3.9361  3.4284  3.9361  12.3505\n",
       "4  1312416025    3.946   0.0025   3.9361  3.4284  3.9361  12.3505"
      ]
     },
     "execution_count": 14,
     "metadata": {},
     "output_type": "execute_result"
    }
   ],
   "source": [
    "df_4 = pd.read_csv('2011-Aug-4.csv', sep=',', header=0)\n",
    "#add columns\n",
    "df_4.columns=['Time','Solar_1', 'Solar_2', 'Solar_3', 'Wind_1', 'Wind_2','Battery']\n",
    "\n",
    "df_4.info()\n",
    "df_4.head()"
   ]
  },
  {
   "cell_type": "code",
   "execution_count": 15,
   "metadata": {
    "colab": {
     "base_uri": "https://localhost:8080/",
     "height": 442
    },
    "id": "f5r0_2EIXjp0",
    "outputId": "725b3a65-7be1-4225-d74f-627de8ace9ff"
   },
   "outputs": [
    {
     "name": "stdout",
     "output_type": "stream",
     "text": [
      "<class 'pandas.core.frame.DataFrame'>\n",
      "RangeIndex: 17279 entries, 0 to 17278\n",
      "Data columns (total 7 columns):\n",
      " #   Column   Non-Null Count  Dtype  \n",
      "---  ------   --------------  -----  \n",
      " 0   Time     17279 non-null  int64  \n",
      " 1   Solar_1  17279 non-null  float64\n",
      " 2   Solar_2  17279 non-null  float64\n",
      " 3   Solar_3  17279 non-null  float64\n",
      " 4   Wind_1   17279 non-null  float64\n",
      " 5   Wind_2   17279 non-null  float64\n",
      " 6   Battery  17279 non-null  float64\n",
      "dtypes: float64(6), int64(1)\n",
      "memory usage: 945.1 KB\n"
     ]
    },
    {
     "data": {
      "text/html": [
       "<div>\n",
       "<style scoped>\n",
       "    .dataframe tbody tr th:only-of-type {\n",
       "        vertical-align: middle;\n",
       "    }\n",
       "\n",
       "    .dataframe tbody tr th {\n",
       "        vertical-align: top;\n",
       "    }\n",
       "\n",
       "    .dataframe thead th {\n",
       "        text-align: right;\n",
       "    }\n",
       "</style>\n",
       "<table border=\"1\" class=\"dataframe\">\n",
       "  <thead>\n",
       "    <tr style=\"text-align: right;\">\n",
       "      <th></th>\n",
       "      <th>Time</th>\n",
       "      <th>Solar_1</th>\n",
       "      <th>Solar_2</th>\n",
       "      <th>Solar_3</th>\n",
       "      <th>Wind_1</th>\n",
       "      <th>Wind_2</th>\n",
       "      <th>Battery</th>\n",
       "    </tr>\n",
       "  </thead>\n",
       "  <tbody>\n",
       "    <tr>\n",
       "      <th>0</th>\n",
       "      <td>1312502405</td>\n",
       "      <td>3.946</td>\n",
       "      <td>0.0025</td>\n",
       "      <td>3.9361</td>\n",
       "      <td>3.4284</td>\n",
       "      <td>3.9361</td>\n",
       "      <td>11.9619</td>\n",
       "    </tr>\n",
       "    <tr>\n",
       "      <th>1</th>\n",
       "      <td>1312502410</td>\n",
       "      <td>3.946</td>\n",
       "      <td>0.0025</td>\n",
       "      <td>3.9361</td>\n",
       "      <td>3.4284</td>\n",
       "      <td>3.9361</td>\n",
       "      <td>11.9720</td>\n",
       "    </tr>\n",
       "    <tr>\n",
       "      <th>2</th>\n",
       "      <td>1312502415</td>\n",
       "      <td>3.946</td>\n",
       "      <td>0.0025</td>\n",
       "      <td>3.9361</td>\n",
       "      <td>3.4284</td>\n",
       "      <td>3.9361</td>\n",
       "      <td>11.9619</td>\n",
       "    </tr>\n",
       "    <tr>\n",
       "      <th>3</th>\n",
       "      <td>1312502420</td>\n",
       "      <td>3.946</td>\n",
       "      <td>0.0025</td>\n",
       "      <td>3.9361</td>\n",
       "      <td>3.4284</td>\n",
       "      <td>3.9361</td>\n",
       "      <td>11.9720</td>\n",
       "    </tr>\n",
       "    <tr>\n",
       "      <th>4</th>\n",
       "      <td>1312502425</td>\n",
       "      <td>3.946</td>\n",
       "      <td>0.0025</td>\n",
       "      <td>3.9361</td>\n",
       "      <td>3.4333</td>\n",
       "      <td>3.9361</td>\n",
       "      <td>11.9670</td>\n",
       "    </tr>\n",
       "  </tbody>\n",
       "</table>\n",
       "</div>"
      ],
      "text/plain": [
       "         Time  Solar_1  Solar_2  Solar_3  Wind_1  Wind_2  Battery\n",
       "0  1312502405    3.946   0.0025   3.9361  3.4284  3.9361  11.9619\n",
       "1  1312502410    3.946   0.0025   3.9361  3.4284  3.9361  11.9720\n",
       "2  1312502415    3.946   0.0025   3.9361  3.4284  3.9361  11.9619\n",
       "3  1312502420    3.946   0.0025   3.9361  3.4284  3.9361  11.9720\n",
       "4  1312502425    3.946   0.0025   3.9361  3.4333  3.9361  11.9670"
      ]
     },
     "execution_count": 15,
     "metadata": {},
     "output_type": "execute_result"
    }
   ],
   "source": [
    "df_5 = pd.read_csv('2011-Aug-5.csv', sep=',', header=0)\n",
    "#add columns\n",
    "df_5.columns=['Time','Solar_1', 'Solar_2', 'Solar_3', 'Wind_1', 'Wind_2','Battery']\n",
    "\n",
    "df_5.info()\n",
    "df_5.head()"
   ]
  },
  {
   "cell_type": "code",
   "execution_count": 16,
   "metadata": {
    "colab": {
     "base_uri": "https://localhost:8080/",
     "height": 204
    },
    "id": "IJnW0B4yFDHq",
    "outputId": "d8201283-7c96-4f57-8899-9262b7255e36"
   },
   "outputs": [
    {
     "data": {
      "text/html": [
       "<div>\n",
       "<style scoped>\n",
       "    .dataframe tbody tr th:only-of-type {\n",
       "        vertical-align: middle;\n",
       "    }\n",
       "\n",
       "    .dataframe tbody tr th {\n",
       "        vertical-align: top;\n",
       "    }\n",
       "\n",
       "    .dataframe thead th {\n",
       "        text-align: right;\n",
       "    }\n",
       "</style>\n",
       "<table border=\"1\" class=\"dataframe\">\n",
       "  <thead>\n",
       "    <tr style=\"text-align: right;\">\n",
       "      <th></th>\n",
       "      <th>Time</th>\n",
       "      <th>Solar_1</th>\n",
       "      <th>Solar_2</th>\n",
       "      <th>Solar_3</th>\n",
       "      <th>Wind_1</th>\n",
       "      <th>Wind_2</th>\n",
       "      <th>Battery</th>\n",
       "    </tr>\n",
       "  </thead>\n",
       "  <tbody>\n",
       "    <tr>\n",
       "      <th>0</th>\n",
       "      <td>1312156805</td>\n",
       "      <td>3.946</td>\n",
       "      <td>0.0025</td>\n",
       "      <td>3.9361</td>\n",
       "      <td>3.4333</td>\n",
       "      <td>3.9361</td>\n",
       "      <td>12.6078</td>\n",
       "    </tr>\n",
       "    <tr>\n",
       "      <th>1</th>\n",
       "      <td>1312156810</td>\n",
       "      <td>3.946</td>\n",
       "      <td>0.0025</td>\n",
       "      <td>3.9361</td>\n",
       "      <td>3.4333</td>\n",
       "      <td>3.9361</td>\n",
       "      <td>12.6078</td>\n",
       "    </tr>\n",
       "    <tr>\n",
       "      <th>2</th>\n",
       "      <td>1312156815</td>\n",
       "      <td>3.946</td>\n",
       "      <td>0.0025</td>\n",
       "      <td>3.9361</td>\n",
       "      <td>3.4333</td>\n",
       "      <td>3.9361</td>\n",
       "      <td>12.6078</td>\n",
       "    </tr>\n",
       "    <tr>\n",
       "      <th>3</th>\n",
       "      <td>1312156820</td>\n",
       "      <td>3.946</td>\n",
       "      <td>0.0025</td>\n",
       "      <td>3.9361</td>\n",
       "      <td>3.4333</td>\n",
       "      <td>3.9361</td>\n",
       "      <td>12.6078</td>\n",
       "    </tr>\n",
       "    <tr>\n",
       "      <th>4</th>\n",
       "      <td>1312156825</td>\n",
       "      <td>3.946</td>\n",
       "      <td>0.0025</td>\n",
       "      <td>3.9361</td>\n",
       "      <td>3.4333</td>\n",
       "      <td>3.9361</td>\n",
       "      <td>12.6078</td>\n",
       "    </tr>\n",
       "  </tbody>\n",
       "</table>\n",
       "</div>"
      ],
      "text/plain": [
       "         Time  Solar_1  Solar_2  Solar_3  Wind_1  Wind_2  Battery\n",
       "0  1312156805    3.946   0.0025   3.9361  3.4333  3.9361  12.6078\n",
       "1  1312156810    3.946   0.0025   3.9361  3.4333  3.9361  12.6078\n",
       "2  1312156815    3.946   0.0025   3.9361  3.4333  3.9361  12.6078\n",
       "3  1312156820    3.946   0.0025   3.9361  3.4333  3.9361  12.6078\n",
       "4  1312156825    3.946   0.0025   3.9361  3.4333  3.9361  12.6078"
      ]
     },
     "execution_count": 16,
     "metadata": {},
     "output_type": "execute_result"
    }
   ],
   "source": [
    "#merge datasets\n",
    "dfs = [df_1, df_2, df_3, df_4, df_5]\n",
    "\n",
    "df = pd.concat(dfs, axis=0)\n",
    "\n",
    "df.head()"
   ]
  },
  {
   "cell_type": "code",
   "execution_count": 17,
   "metadata": {
    "colab": {
     "base_uri": "https://localhost:8080/",
     "height": 235
    },
    "id": "2ppzCXXmG8vG",
    "outputId": "90e46e34-fe85-4e85-88fc-0667b71ad89f"
   },
   "outputs": [
    {
     "data": {
      "text/html": [
       "<div>\n",
       "<style scoped>\n",
       "    .dataframe tbody tr th:only-of-type {\n",
       "        vertical-align: middle;\n",
       "    }\n",
       "\n",
       "    .dataframe tbody tr th {\n",
       "        vertical-align: top;\n",
       "    }\n",
       "\n",
       "    .dataframe thead th {\n",
       "        text-align: right;\n",
       "    }\n",
       "</style>\n",
       "<table border=\"1\" class=\"dataframe\">\n",
       "  <thead>\n",
       "    <tr style=\"text-align: right;\">\n",
       "      <th></th>\n",
       "      <th>Solar_1</th>\n",
       "      <th>Solar_2</th>\n",
       "      <th>Solar_3</th>\n",
       "      <th>Wind_1</th>\n",
       "      <th>Wind_2</th>\n",
       "      <th>Battery</th>\n",
       "    </tr>\n",
       "    <tr>\n",
       "      <th>Time</th>\n",
       "      <th></th>\n",
       "      <th></th>\n",
       "      <th></th>\n",
       "      <th></th>\n",
       "      <th></th>\n",
       "      <th></th>\n",
       "    </tr>\n",
       "  </thead>\n",
       "  <tbody>\n",
       "    <tr>\n",
       "      <th>1822440</th>\n",
       "      <td>564.278</td>\n",
       "      <td>0.3575</td>\n",
       "      <td>562.9173</td>\n",
       "      <td>490.9619</td>\n",
       "      <td>562.8623</td>\n",
       "      <td>1802.4404</td>\n",
       "    </tr>\n",
       "    <tr>\n",
       "      <th>1822441</th>\n",
       "      <td>568.224</td>\n",
       "      <td>0.3600</td>\n",
       "      <td>566.8484</td>\n",
       "      <td>494.3952</td>\n",
       "      <td>566.7984</td>\n",
       "      <td>1814.4006</td>\n",
       "    </tr>\n",
       "    <tr>\n",
       "      <th>1822442</th>\n",
       "      <td>568.224</td>\n",
       "      <td>0.3600</td>\n",
       "      <td>566.8484</td>\n",
       "      <td>494.3952</td>\n",
       "      <td>566.7984</td>\n",
       "      <td>1813.6087</td>\n",
       "    </tr>\n",
       "    <tr>\n",
       "      <th>1822443</th>\n",
       "      <td>568.224</td>\n",
       "      <td>0.3600</td>\n",
       "      <td>566.8684</td>\n",
       "      <td>494.3952</td>\n",
       "      <td>566.7984</td>\n",
       "      <td>1812.8847</td>\n",
       "    </tr>\n",
       "    <tr>\n",
       "      <th>1822444</th>\n",
       "      <td>568.224</td>\n",
       "      <td>0.3600</td>\n",
       "      <td>566.8534</td>\n",
       "      <td>494.3952</td>\n",
       "      <td>566.7984</td>\n",
       "      <td>1812.1191</td>\n",
       "    </tr>\n",
       "  </tbody>\n",
       "</table>\n",
       "</div>"
      ],
      "text/plain": [
       "         Solar_1  Solar_2   Solar_3    Wind_1    Wind_2    Battery\n",
       "Time                                                              \n",
       "1822440  564.278   0.3575  562.9173  490.9619  562.8623  1802.4404\n",
       "1822441  568.224   0.3600  566.8484  494.3952  566.7984  1814.4006\n",
       "1822442  568.224   0.3600  566.8484  494.3952  566.7984  1813.6087\n",
       "1822443  568.224   0.3600  566.8684  494.3952  566.7984  1812.8847\n",
       "1822444  568.224   0.3600  566.8534  494.3952  566.7984  1812.1191"
      ]
     },
     "execution_count": 17,
     "metadata": {},
     "output_type": "execute_result"
    }
   ],
   "source": [
    "# the dataset is every 5 second - hourly 3600/5 = 720\n",
    "#sum every 720 rows??\n",
    "\n",
    "df = df.set_index('Time')\n",
    "df = df.groupby(df.index // 720).sum()\n",
    "\n",
    "df.head()"
   ]
  },
  {
   "cell_type": "code",
   "execution_count": 23,
   "metadata": {
    "colab": {
     "base_uri": "https://localhost:8080/",
     "height": 235
    },
    "id": "1oemIEz3FTUY",
    "outputId": "88388c4d-28a9-4932-befa-423436452cd1"
   },
   "outputs": [
    {
     "data": {
      "text/html": [
       "<div>\n",
       "<style scoped>\n",
       "    .dataframe tbody tr th:only-of-type {\n",
       "        vertical-align: middle;\n",
       "    }\n",
       "\n",
       "    .dataframe tbody tr th {\n",
       "        vertical-align: top;\n",
       "    }\n",
       "\n",
       "    .dataframe thead th {\n",
       "        text-align: right;\n",
       "    }\n",
       "</style>\n",
       "<table border=\"1\" class=\"dataframe\">\n",
       "  <thead>\n",
       "    <tr style=\"text-align: right;\">\n",
       "      <th></th>\n",
       "      <th>Solar_1</th>\n",
       "      <th>Solar_2</th>\n",
       "      <th>Solar_3</th>\n",
       "      <th>Wind_1</th>\n",
       "      <th>Wind_2</th>\n",
       "      <th>Battery</th>\n",
       "      <th>Total</th>\n",
       "    </tr>\n",
       "    <tr>\n",
       "      <th>Time</th>\n",
       "      <th></th>\n",
       "      <th></th>\n",
       "      <th></th>\n",
       "      <th></th>\n",
       "      <th></th>\n",
       "      <th></th>\n",
       "      <th></th>\n",
       "    </tr>\n",
       "  </thead>\n",
       "  <tbody>\n",
       "    <tr>\n",
       "      <th>1822440</th>\n",
       "      <td>564.278</td>\n",
       "      <td>0.3575</td>\n",
       "      <td>562.9173</td>\n",
       "      <td>490.9619</td>\n",
       "      <td>562.8623</td>\n",
       "      <td>1802.4404</td>\n",
       "      <td>2181.377</td>\n",
       "    </tr>\n",
       "    <tr>\n",
       "      <th>1822441</th>\n",
       "      <td>568.224</td>\n",
       "      <td>0.3600</td>\n",
       "      <td>566.8484</td>\n",
       "      <td>494.3952</td>\n",
       "      <td>566.7984</td>\n",
       "      <td>1814.4006</td>\n",
       "      <td>2196.626</td>\n",
       "    </tr>\n",
       "    <tr>\n",
       "      <th>1822442</th>\n",
       "      <td>568.224</td>\n",
       "      <td>0.3600</td>\n",
       "      <td>566.8484</td>\n",
       "      <td>494.3952</td>\n",
       "      <td>566.7984</td>\n",
       "      <td>1813.6087</td>\n",
       "      <td>2196.626</td>\n",
       "    </tr>\n",
       "    <tr>\n",
       "      <th>1822443</th>\n",
       "      <td>568.224</td>\n",
       "      <td>0.3600</td>\n",
       "      <td>566.8684</td>\n",
       "      <td>494.3952</td>\n",
       "      <td>566.7984</td>\n",
       "      <td>1812.8847</td>\n",
       "      <td>2196.646</td>\n",
       "    </tr>\n",
       "    <tr>\n",
       "      <th>1822444</th>\n",
       "      <td>568.224</td>\n",
       "      <td>0.3600</td>\n",
       "      <td>566.8534</td>\n",
       "      <td>494.3952</td>\n",
       "      <td>566.7984</td>\n",
       "      <td>1812.1191</td>\n",
       "      <td>2196.631</td>\n",
       "    </tr>\n",
       "  </tbody>\n",
       "</table>\n",
       "</div>"
      ],
      "text/plain": [
       "         Solar_1  Solar_2   Solar_3    Wind_1    Wind_2    Battery     Total\n",
       "Time                                                                        \n",
       "1822440  564.278   0.3575  562.9173  490.9619  562.8623  1802.4404  2181.377\n",
       "1822441  568.224   0.3600  566.8484  494.3952  566.7984  1814.4006  2196.626\n",
       "1822442  568.224   0.3600  566.8484  494.3952  566.7984  1813.6087  2196.626\n",
       "1822443  568.224   0.3600  566.8684  494.3952  566.7984  1812.8847  2196.646\n",
       "1822444  568.224   0.3600  566.8534  494.3952  566.7984  1812.1191  2196.631"
      ]
     },
     "execution_count": 23,
     "metadata": {},
     "output_type": "execute_result"
    }
   ],
   "source": [
    "#new total voltage\n",
    "df['Total'] = df.loc[:, df.columns != 'Battery'].sum(axis=1)\n",
    "df.head()"
   ]
  },
  {
   "cell_type": "code",
   "execution_count": 24,
   "metadata": {
    "colab": {
     "base_uri": "https://localhost:8080/"
    },
    "id": "haPuWEHSHTyW",
    "outputId": "d4a9b646-77b5-4407-9049-62c00a24a989"
   },
   "outputs": [
    {
     "data": {
      "text/plain": [
       "Solar_1    float64\n",
       "Solar_2    float64\n",
       "Solar_3    float64\n",
       "Wind_1     float64\n",
       "Wind_2     float64\n",
       "Battery    float64\n",
       "Total      float64\n",
       "dtype: object"
      ]
     },
     "execution_count": 24,
     "metadata": {},
     "output_type": "execute_result"
    }
   ],
   "source": [
    "df.dtypes"
   ]
  },
  {
   "cell_type": "code",
   "execution_count": 25,
   "metadata": {
    "colab": {
     "base_uri": "https://localhost:8080/",
     "height": 802
    },
    "id": "x4GyYv9uYYKv",
    "outputId": "cc25d318-6d21-4702-dc7a-de91600729c0"
   },
   "outputs": [
    {
     "data": {
      "text/plain": [
       "array([<matplotlib.axes._subplots.AxesSubplot object at 0x7fb29bb2b9d0>,\n",
       "       <matplotlib.axes._subplots.AxesSubplot object at 0x7fb2963de990>,\n",
       "       <matplotlib.axes._subplots.AxesSubplot object at 0x7fb296412190>,\n",
       "       <matplotlib.axes._subplots.AxesSubplot object at 0x7fb2963b3a10>,\n",
       "       <matplotlib.axes._subplots.AxesSubplot object at 0x7fb296311350>,\n",
       "       <matplotlib.axes._subplots.AxesSubplot object at 0x7fb2962c8690>,\n",
       "       <matplotlib.axes._subplots.AxesSubplot object at 0x7fb296280a50>],\n",
       "      dtype=object)"
      ]
     },
     "execution_count": 25,
     "metadata": {},
     "output_type": "execute_result"
    },
    {
     "data": {
      "image/png": "[encoded data removed]",
      "text/plain": [
       "<Figure size 720x864 with 7 Axes>"
      ]
     },
     "metadata": {
      "needs_background": "light"
     },
     "output_type": "display_data"
    }
   ],
   "source": [
    "df.plot(subplots=True, figsize=(10,12))"
   ]
  },
  {
   "cell_type": "code",
   "execution_count": 26,
   "metadata": {
    "colab": {
     "base_uri": "https://localhost:8080/",
     "height": 266
    },
    "id": "XRMnX2FPYyjc",
    "outputId": "daed4ac2-90ef-4ccc-82ab-0a04452e726c"
   },
   "outputs": [
    {
     "data": {
      "text/html": [
       "<div>\n",
       "<style scoped>\n",
       "    .dataframe tbody tr th:only-of-type {\n",
       "        vertical-align: middle;\n",
       "    }\n",
       "\n",
       "    .dataframe tbody tr th {\n",
       "        vertical-align: top;\n",
       "    }\n",
       "\n",
       "    .dataframe thead th {\n",
       "        text-align: right;\n",
       "    }\n",
       "</style>\n",
       "<table border=\"1\" class=\"dataframe\">\n",
       "  <thead>\n",
       "    <tr style=\"text-align: right;\">\n",
       "      <th></th>\n",
       "      <th>Solar_1</th>\n",
       "      <th>Solar_2</th>\n",
       "      <th>Solar_3</th>\n",
       "      <th>Wind_1</th>\n",
       "      <th>Wind_2</th>\n",
       "      <th>Battery</th>\n",
       "      <th>Total</th>\n",
       "    </tr>\n",
       "  </thead>\n",
       "  <tbody>\n",
       "    <tr>\n",
       "      <th>Solar_1</th>\n",
       "      <td>1.000000</td>\n",
       "      <td>0.988931</td>\n",
       "      <td>0.629709</td>\n",
       "      <td>0.580322</td>\n",
       "      <td>0.913824</td>\n",
       "      <td>0.989380</td>\n",
       "      <td>0.776524</td>\n",
       "    </tr>\n",
       "    <tr>\n",
       "      <th>Solar_2</th>\n",
       "      <td>0.988931</td>\n",
       "      <td>1.000000</td>\n",
       "      <td>0.610135</td>\n",
       "      <td>0.582788</td>\n",
       "      <td>0.927913</td>\n",
       "      <td>0.990217</td>\n",
       "      <td>0.769620</td>\n",
       "    </tr>\n",
       "    <tr>\n",
       "      <th>Solar_3</th>\n",
       "      <td>0.629709</td>\n",
       "      <td>0.610135</td>\n",
       "      <td>1.000000</td>\n",
       "      <td>0.934514</td>\n",
       "      <td>0.783770</td>\n",
       "      <td>0.683991</td>\n",
       "      <td>0.964782</td>\n",
       "    </tr>\n",
       "    <tr>\n",
       "      <th>Wind_1</th>\n",
       "      <td>0.580322</td>\n",
       "      <td>0.582788</td>\n",
       "      <td>0.934514</td>\n",
       "      <td>1.000000</td>\n",
       "      <td>0.777616</td>\n",
       "      <td>0.639938</td>\n",
       "      <td>0.949390</td>\n",
       "    </tr>\n",
       "    <tr>\n",
       "      <th>Wind_2</th>\n",
       "      <td>0.913824</td>\n",
       "      <td>0.927913</td>\n",
       "      <td>0.783770</td>\n",
       "      <td>0.777616</td>\n",
       "      <td>1.000000</td>\n",
       "      <td>0.929292</td>\n",
       "      <td>0.906217</td>\n",
       "    </tr>\n",
       "    <tr>\n",
       "      <th>Battery</th>\n",
       "      <td>0.989380</td>\n",
       "      <td>0.990217</td>\n",
       "      <td>0.683991</td>\n",
       "      <td>0.639938</td>\n",
       "      <td>0.929292</td>\n",
       "      <td>1.000000</td>\n",
       "      <td>0.819761</td>\n",
       "    </tr>\n",
       "    <tr>\n",
       "      <th>Total</th>\n",
       "      <td>0.776524</td>\n",
       "      <td>0.769620</td>\n",
       "      <td>0.964782</td>\n",
       "      <td>0.949390</td>\n",
       "      <td>0.906217</td>\n",
       "      <td>0.819761</td>\n",
       "      <td>1.000000</td>\n",
       "    </tr>\n",
       "  </tbody>\n",
       "</table>\n",
       "</div>"
      ],
      "text/plain": [
       "          Solar_1   Solar_2   Solar_3    Wind_1    Wind_2   Battery     Total\n",
       "Solar_1  1.000000  0.988931  0.629709  0.580322  0.913824  0.989380  0.776524\n",
       "Solar_2  0.988931  1.000000  0.610135  0.582788  0.927913  0.990217  0.769620\n",
       "Solar_3  0.629709  0.610135  1.000000  0.934514  0.783770  0.683991  0.964782\n",
       "Wind_1   0.580322  0.582788  0.934514  1.000000  0.777616  0.639938  0.949390\n",
       "Wind_2   0.913824  0.927913  0.783770  0.777616  1.000000  0.929292  0.906217\n",
       "Battery  0.989380  0.990217  0.683991  0.639938  0.929292  1.000000  0.819761\n",
       "Total    0.776524  0.769620  0.964782  0.949390  0.906217  0.819761  1.000000"
      ]
     },
     "execution_count": 26,
     "metadata": {},
     "output_type": "execute_result"
    }
   ],
   "source": [
    "df.corr()\n"
   ]
  },
  {
   "cell_type": "code",
   "execution_count": 27,
   "metadata": {
    "colab": {
     "base_uri": "https://localhost:8080/",
     "height": 287
    },
    "id": "hgEO4KvgZk8H",
    "outputId": "03c74f95-2bff-433f-954a-e2eb2fb4a874"
   },
   "outputs": [
    {
     "data": {
      "text/plain": [
       "<matplotlib.axes._subplots.AxesSubplot at 0x7fb285a810d0>"
      ]
     },
     "execution_count": 27,
     "metadata": {},
     "output_type": "execute_result"
    },
    {
     "data": {
      "image/png": "[encoded data removed]",
      "text/plain": [
       "<Figure size 432x288 with 2 Axes>"
      ]
     },
     "metadata": {
      "needs_background": "light"
     },
     "output_type": "display_data"
    }
   ],
   "source": [
    "import seaborn as sns\n",
    "sns.heatmap(df.corr())"
   ]
  },
  {
   "cell_type": "code",
   "execution_count": 29,
   "metadata": {
    "colab": {
     "base_uri": "https://localhost:8080/"
    },
    "id": "fhivYTEEZ5_l",
    "outputId": "bfcc7b32-f0f2-4974-e9b8-c62f9c408a8b"
   },
   "outputs": [
    {
     "data": {
      "text/plain": [
       "Solar_1    0\n",
       "Solar_2    0\n",
       "Solar_3    0\n",
       "Wind_1     0\n",
       "Wind_2     0\n",
       "Battery    0\n",
       "Total      0\n",
       "dtype: int64"
      ]
     },
     "execution_count": 29,
     "metadata": {},
     "output_type": "execute_result"
    }
   ],
   "source": [
    "df.isnull().sum()"
   ]
  }
 ],
 "metadata": {
  "colab": {
   "name": "6_generation_explore.ipynb",
   "provenance": []
  },
  "kernelspec": {
   "display_name": "Python 3 (ipykernel)",
   "language": "python",
   "name": "python3"
  },
  "language_info": {
   "codemirror_mode": {
    "name": "ipython",
    "version": 3
   },
   "file_extension": ".py",
   "mimetype": "text/x-python",
   "name": "python",
   "nbconvert_exporter": "python",
   "pygments_lexer": "ipython3",
   "version": "3.8.5"
  }
 },
 "nbformat": 4,
 "nbformat_minor": 4
}
